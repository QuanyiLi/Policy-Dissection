{
 "cells": [
  {
   "cell_type": "code",
   "execution_count": 11,
   "id": "142b0d02",
   "metadata": {},
   "outputs": [],
   "source": [
    "import pickle"
   ]
  },
  {
   "cell_type": "code",
   "execution_count": 13,
   "id": "aa193af4",
   "metadata": {},
   "outputs": [],
   "source": [
    "def analyze(path):\n",
    "    with open(\"{}.pkl\".format(path), \"rb+\") as file:\n",
    "        data = pickle.load(file)\n",
    "\n",
    "    # resort\n",
    "    for seed, epi_data in data.items():\n",
    "        for obs_index, obs_ret in epi_data.items():\n",
    "            if obs_index == \"seed\":\n",
    "                continue\n",
    "            resort = sorted(obs_ret, key=lambda x: x[\"neuron\"][\"neuron_index\"], reverse=True)\n",
    "            resort = sorted(resort, key=lambda x: x[\"neuron\"][\"layer\"], reverse=True)\n",
    "            epi_data[obs_index] = resort\n",
    "\n",
    "            # average\n",
    "    averaged_ret = {}\n",
    "    for seed, epi_data in data.items():\n",
    "        for obs, obs_ret in epi_data.items():\n",
    "            if obs == \"seed\":\n",
    "                continue\n",
    "            if obs in averaged_ret:\n",
    "                for k,each_neuron in enumerate(obs_ret):\n",
    "                    assert averaged_ret[obs][k][\"layer\"] == each_neuron[\"neuron\"][\"layer\"] and averaged_ret[obs][k][\"neuron_index\"] == each_neuron[\"neuron\"][\"neuron_index\"], \"{} {}\".format(averaged_ret[obs][k][\"neuron_index\"], each_neuron[\"neuron\"][\"neuron_index\"])\n",
    "                    averaged_ret[obs][k][\"freq_diff\"] = (averaged_ret[obs][k][\"freq_diff\"]*averaged_ret[obs][k][\"seed_num\"] + each_neuron[\"error\"][\"freq_diff\"])/(averaged_ret[obs][k][\"seed_num\"]+1)\n",
    "                    averaged_ret[obs][k][\"base_phase_diff\"] = (averaged_ret[obs][k][\"base_phase_diff\"]*averaged_ret[obs][k][\"seed_num\"] + each_neuron[\"error\"][\"base_phase_diff\"])/(averaged_ret[obs][k][\"seed_num\"]+1)\n",
    "                    averaged_ret[obs][k][\"seed_num\"]+=1\n",
    "            else:\n",
    "                averaged_ret[obs] = []\n",
    "                for each_neuron in obs_ret:\n",
    "                    averaged_ret[obs].append({\"layer\": each_neuron[\"neuron\"][\"layer\"],\n",
    "                                       \"neuron_index\": each_neuron[\"neuron\"][\"neuron_index\"],\n",
    "                                       \"freq_diff\": each_neuron[\"error\"][\"freq_diff\"],\n",
    "                                       \"base_phase_diff\": each_neuron[\"error\"][\"base_phase_diff\"],\n",
    "                                       \"seed_num\": 1})\n",
    "    for obs_dim, avg_ret in averaged_ret.items():\n",
    "        averaged_ret[obs_dim] = sorted(avg_ret, key=lambda x:x[\"freq_diff\"],reverse=False)\n",
    "    return averaged_ret"
   ]
  },
  {
   "cell_type": "code",
   "execution_count": 10,
   "id": "6d69d3d8",
   "metadata": {},
   "outputs": [
    {
     "name": "stdout",
     "output_type": "stream",
     "text": [
      "angular velocity related neuron: {'layer': 0, 'neuron_index': 67, 'freq_diff': 29.66586259745528, 'base_phase_diff': 0.7112072881609092, 'seed_num': 20}\n",
      "x-linear velocity related neuron: {'layer': 1, 'neuron_index': 17, 'freq_diff': 226.9546785853177, 'base_phase_diff': 0.9976190475527915, 'seed_num': 20}\n"
     ]
    }
   ],
   "source": [
    "# For anymal:\n",
    "# 5: angular velocity (yaw)\n",
    "averaged_ret = analyze()\"anymal_ret\")\n",
    "print(\"angular velocity related neuron:\", averaged_ret[5][1]) # 1 better than 0 due to a higher correlation\n",
    "# 1: x-linear velocity\n",
    "print(\"x-linear velocity related neuron:\", averaged_ret[1][1]) # 1 better than 0 due to a higher correlation"
   ]
  }
 ],
 "metadata": {
  "kernelspec": {
   "display_name": "Python 3 (ipykernel)",
   "language": "python",
   "name": "python3"
  },
  "language_info": {
   "codemirror_mode": {
    "name": "ipython",
    "version": 3
   },
   "file_extension": ".py",
   "mimetype": "text/x-python",
   "name": "python",
   "nbconvert_exporter": "python",
   "pygments_lexer": "ipython3",
   "version": "3.7.13"
  }
 },
 "nbformat": 4,
 "nbformat_minor": 5
}
